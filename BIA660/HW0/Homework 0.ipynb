{
 "cells": [
  {
   "cell_type": "markdown",
   "metadata": {},
   "source": [
    "# Homework 0: apply for a Twitter developer account"
   ]
  },
  {
   "cell_type": "markdown",
   "metadata": {},
   "source": [
    "This is a small assignment that prepares you for data retrieval in the coming weeks. Please apply for a Twitter developer account here https://developer.twitter.com/en/support/twitter-api/developer-account.  When you have the account information, you may run the following codes to show tweets from your timeline. You may remove the accoount information when uploading the assignment. "
   ]
  },
  {
   "cell_type": "code",
   "execution_count": 15,
   "metadata": {},
   "outputs": [
    {
     "name": "stdout",
     "output_type": "stream",
     "text": [
      "20\n",
      "On the two-year anniversary of COVID-19 hitting the U.S., stream #TheFirstWave for free for 48 hours. Watch now:… https://t.co/uj9BSq1uHn\n",
      "Boom. https://t.co/Kcwgww6Wmx\n",
      "Starting soon at 12pm ET! Check out this important @NRDems Congressional hearing on the #ClimateCrisis chaired by… https://t.co/9zk164GPmO\n",
      "Wow. I’ll be watching this. https://t.co/JfY81lb5E0\n",
      "RT @RachelBitecofer: Hollywood- give us Murray or give us death. \n",
      "\n",
      "https://t.co/QnvXJtAexK\n",
      "#TBT: Scientists once found fossilized remains in southern New Zealand they believe came from a 220-pound ancient p… https://t.co/kRQ0vw5j0h\n",
      "“It’s pretty clear that the virus continues to evolve and going forward there is a need for a universal COVID-19 va… https://t.co/GmPTUj2wYR\n",
      "[SUB] 최강창민이 생각하는 악마는 누굴까? - 정신과 의사 분석 #동방신기#최강창민#가사해석\n",
      "\n",
      "https://t.co/R9mUONSdtr\n",
      "\n",
      "#최강창민 #MAXCHANGMIN… https://t.co/7kittlo6LJ\n",
      "잠시 후 오늘 밤 9시 \n",
      "최강창민 ‘시고르 경양식’ 마지막 오픈 🍽\n",
      "\n",
      "예고👉https://t.co/k20IqCReuq\n",
      "\n",
      "그동안 ‘시고르 경양식’을 사랑해 주신 여러분 모두 감사합니다🍑👨‍🍳… https://t.co/UHIQONZ9xm\n",
      "'최초 공개' COOL&amp;SEXY '최강창민'의 'Fever' 무대 | Mnet 220120 방송\n",
      "\n",
      "https://t.co/B5DSAnjXL3\n",
      "https://t.co/Tuqr91UcLQ\n",
      "\n",
      "#최강창민… https://t.co/620l6oD9Hz\n"
     ]
    }
   ],
   "source": [
    "import tweepy\n",
    "\n",
    "# https://docs.tweepy.org/en/stable/auth_tutorial.html\n",
    "\n",
    "\n",
    "auth=tweepy.OAuthHandler(CONSUMER_KEY,CONSUMER_SECRET)\n",
    "auth.set_access_token(ACCESS_KEY,ACCESS_SECRET)\n",
    "api=tweepy.API(auth)\n",
    "\n",
    "public_tweets = api.home_timeline()\n",
    "print(len(public_tweets))\n",
    "for tweet in public_tweets[:10]:\n",
    "    print(tweet.text)"
   ]
  },
  {
   "cell_type": "code",
   "execution_count": null,
   "metadata": {},
   "outputs": [],
   "source": []
  }
 ],
 "metadata": {
  "kernelspec": {
   "display_name": "Python 3.8 (pytorch)",
   "language": "python",
   "name": "pytorch"
  },
  "language_info": {
   "codemirror_mode": {
    "name": "ipython",
    "version": 3
   },
   "file_extension": ".py",
   "mimetype": "text/x-python",
   "name": "python",
   "nbconvert_exporter": "python",
   "pygments_lexer": "ipython3",
   "version": "3.8.12"
  }
 },
 "nbformat": 4,
 "nbformat_minor": 4
}
